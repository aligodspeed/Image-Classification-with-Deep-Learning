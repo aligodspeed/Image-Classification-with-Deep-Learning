{
 "cells": [
  {
   "cell_type": "markdown",
   "metadata": {},
   "source": [
    "# Overview, Understanding of Data and Business Question."
   ]
  },
  {
   "cell_type": "markdown",
   "metadata": {},
   "source": [
    "In this notebook, we got our dataset form Kaggle. Our dataset is over 5000 images of X-ray chest from childern. This dataset has 3 different folders train, test and val. every folder contains subfolders Normal and Pneumonia which included X-ray images. The Pneumonia subfolder has 2 different type of images. These images are X_ray from people with Pneumonia from Bacteria and Virus. \n",
    "\n",
    "Pneumonia images are different than Normal images while Pneumonia images are distinguished from each other too. \n",
    "With these differentiations, we can make model to find the pattern between images, and use that pattern to predict and recognize other future images.\n",
    "\n",
    "The Business problem is that False Negative predictions. Like other medical cases, false negatives are really important. False negatives are predictions of Normal X-ray while they are Pneumonia. This become really dangerous when we say people that they are not sick, but they are.\n",
    "\n",
    "Our goal here is to make model with lower False Negativ and higher metrics scores. "
   ]
  },
  {
   "cell_type": "markdown",
   "metadata": {},
   "source": [
    "# What is Pneumonia?\n",
    "Pneumonia is an infection that inflames the air sacs in one or both lungs. The air sacs may fill with fluid or pus (purulent material), causing cough with phlegm or pus, fever, chills, and difficulty breathing. A variety of organisms, including bacteria and viruses can cause pneumonia.\n",
    "\n",
    "Pneumonia can range in seriousness from mild to life-threatening. It is most serious for infants and young children, people older than age 65, and people with health problems or weakened immune systems."
   ]
  },
  {
   "cell_type": "markdown",
   "metadata": {},
   "source": [
    "![](../final_notebook/pneu.jpg)"
   ]
  },
  {
   "cell_type": "markdown",
   "metadata": {},
   "source": [
    "# Importing the Necessary Libraries"
   ]
  },
  {
   "cell_type": "code",
   "execution_count": 1,
   "metadata": {},
   "outputs": [],
   "source": [
    "import pandas as pd\n",
    "import numpy as np\n",
    "import matplotlib.pyplot as plt\n",
    "%matplotlib inline\n",
    "import seaborn as sns\n",
    "\n",
    "import os, shutil\n",
    "\n",
    "from keras.preprocessing.image import ImageDataGenerator, array_to_img, img_to_array, load_img\n",
    "from keras import layers\n",
    "from keras import models\n",
    "from keras import optimizers\n",
    "from keras.preprocessing import image\n",
    "from keras.callbacks import EarlyStopping\n",
    "\n",
    "from sklearn.metrics import classification_report,confusion_matrix\n",
    "from sklearn.metrics import plot_confusion_matrix"
   ]
  },
  {
   "cell_type": "markdown",
   "metadata": {},
   "source": [
    "## Loading the Dataset\n",
    "\n",
    "The dataset already splits to three folders test, train and validation. Each folder has 2 Subfolders which are Normal and Pneumonia. Inside of these folders there are chest-Xrays of peopel with diagnosed of Pneumonia and peopel with Normal lung.\n",
    "\n",
    "fter loading and craeting the first simple model, we saw a strange behavior on graph from validation accuracy and validation loss. This unusual behavior is caused by the number of validation folders. In the otiginal folders, there are only 16 images inisde the folder and this is causing a Roller coasters behavior from validation accuracy and validation loss.\n",
    "\n",
    "I added equal number of images into both Pneumonia and Normal folders. Then make new simple model."
   ]
  },
  {
   "cell_type": "code",
   "execution_count": 4,
   "metadata": {},
   "outputs": [],
   "source": [
    "#giving pathway to load data.\n",
    "test_folder = '../../data/test'\n",
    "train_folder = '../../data/train/'\n",
    "val_folder = '../../data/val/'"
   ]
  },
  {
   "cell_type": "markdown",
   "metadata": {},
   "source": [
    "# First model\n",
    "\n",
    "- we run the CNN model as first model here, then improve the model with early stop and some hyper Tuning "
   ]
  },
  {
   "cell_type": "code",
   "execution_count": 5,
   "metadata": {},
   "outputs": [
    {
     "name": "stdout",
     "output_type": "stream",
     "text": [
      "Found 5133 images belonging to 2 classes.\n",
      "Found 102 images belonging to 2 classes.\n"
     ]
    }
   ],
   "source": [
    "# All images will be rescaled by 1./255\n",
    "train_datagen = ImageDataGenerator(rescale=1./255)\n",
    "test_datagen = ImageDataGenerator(rescale=1./255)\n",
    "\n",
    "train_generator = train_datagen.flow_from_directory(\n",
    "        # This is the target directory\n",
    "        train_folder,\n",
    "        # All images will be resized to 150x150\n",
    "        target_size=(150, 150),\n",
    "        batch_size=20,\n",
    "        # Since we use binary_crossentropy loss, we need binary labels\n",
    "        class_mode='binary')\n",
    "\n",
    "validation_generator = test_datagen.flow_from_directory(val_folder,\n",
    "                                                        target_size=(150, 150),\n",
    "                                                        batch_size=15,\n",
    "                                                        class_mode='binary')"
   ]
  },
  {
   "cell_type": "code",
   "execution_count": 7,
   "metadata": {},
   "outputs": [],
   "source": [
    "# create the data sets\n",
    "train, train_lables = next(train_generator)\n",
    "val, val_labels = next(validation_generator)"
   ]
  },
  {
   "cell_type": "code",
   "execution_count": 8,
   "metadata": {},
   "outputs": [],
   "source": [
    "# making more layers with Conv and Maxpooling\n",
    "# still keep those Dense and Flatten layers\n",
    "model = models.Sequential()\n",
    "model.add(layers.Conv2D(32, (3, 3), activation='relu',\n",
    "                        input_shape=(150, 150, 3)))\n",
    "model.add(layers.MaxPooling2D((2, 2)))\n",
    "model.add(layers.Conv2D(64, (3, 3), activation='relu'))\n",
    "model.add(layers.MaxPooling2D((2, 2)))\n",
    "model.add(layers.Conv2D(128, (3, 3), activation='relu'))\n",
    "model.add(layers.MaxPooling2D((2, 2)))\n",
    "model.add(layers.Conv2D(128, (3, 3), activation='relu'))\n",
    "model.add(layers.MaxPooling2D((2, 2)))\n",
    "model.add(layers.Flatten())\n",
    "model.add(layers.Dense(512, activation='relu'))\n",
    "model.add(layers.Dense(1, activation='sigmoid'))\n",
    "model.compile(loss='binary_crossentropy',\n",
    "              optimizer=optimizers.RMSprop(lr=1e-4),\n",
    "              metrics=['acc'])"
   ]
  },
  {
   "cell_type": "code",
   "execution_count": 9,
   "metadata": {
    "scrolled": true
   },
   "outputs": [
    {
     "name": "stdout",
     "output_type": "stream",
     "text": [
      "WARNING:tensorflow:From <ipython-input-9-cf54a0dbd96a>:2: Model.fit_generator (from tensorflow.python.keras.engine.training) is deprecated and will be removed in a future version.\n",
      "Instructions for updating:\n",
      "Please use Model.fit, which supports generators.\n",
      "Epoch 1/20\n",
      "50/50 [==============================] - 20s 392ms/step - loss: 0.5318 - acc: 0.7570 - val_loss: 0.5632 - val_acc: 0.7157\n",
      "Epoch 2/20\n",
      "50/50 [==============================] - 19s 377ms/step - loss: 0.3873 - acc: 0.8380 - val_loss: 0.4447 - val_acc: 0.7451\n",
      "Epoch 3/20\n",
      "50/50 [==============================] - 19s 388ms/step - loss: 0.2786 - acc: 0.8860 - val_loss: 0.2707 - val_acc: 0.8922\n",
      "Epoch 4/20\n",
      "50/50 [==============================] - 19s 389ms/step - loss: 0.1889 - acc: 0.9250 - val_loss: 0.3037 - val_acc: 0.8529\n",
      "Epoch 5/20\n",
      "50/50 [==============================] - 19s 379ms/step - loss: 0.1802 - acc: 0.9320 - val_loss: 0.2767 - val_acc: 0.8725\n",
      "Epoch 6/20\n",
      "50/50 [==============================] - 20s 391ms/step - loss: 0.1404 - acc: 0.9530 - val_loss: 0.2336 - val_acc: 0.8922\n",
      "Epoch 7/20\n",
      "50/50 [==============================] - 19s 387ms/step - loss: 0.1322 - acc: 0.9520 - val_loss: 0.4043 - val_acc: 0.8235\n",
      "Epoch 8/20\n",
      "50/50 [==============================] - 19s 376ms/step - loss: 0.1249 - acc: 0.9500 - val_loss: 0.3442 - val_acc: 0.8529\n",
      "Epoch 9/20\n",
      "50/50 [==============================] - 19s 387ms/step - loss: 0.1025 - acc: 0.9540 - val_loss: 0.1710 - val_acc: 0.9412\n",
      "Epoch 10/20\n",
      "50/50 [==============================] - 20s 394ms/step - loss: 0.1191 - acc: 0.9580 - val_loss: 0.2261 - val_acc: 0.9216\n",
      "Epoch 11/20\n",
      "50/50 [==============================] - 20s 397ms/step - loss: 0.1162 - acc: 0.9540 - val_loss: 0.1525 - val_acc: 0.9412\n",
      "Epoch 12/20\n",
      "50/50 [==============================] - 20s 396ms/step - loss: 0.1070 - acc: 0.9580 - val_loss: 0.2139 - val_acc: 0.9118\n",
      "Epoch 13/20\n",
      "50/50 [==============================] - 19s 382ms/step - loss: 0.1140 - acc: 0.9520 - val_loss: 0.1655 - val_acc: 0.9314\n",
      "Epoch 14/20\n",
      "50/50 [==============================] - 20s 404ms/step - loss: 0.1143 - acc: 0.9590 - val_loss: 0.5080 - val_acc: 0.8039\n",
      "Epoch 15/20\n",
      "50/50 [==============================] - 19s 387ms/step - loss: 0.1036 - acc: 0.9670 - val_loss: 0.1906 - val_acc: 0.9216\n",
      "Epoch 16/20\n",
      "50/50 [==============================] - 20s 391ms/step - loss: 0.0740 - acc: 0.9680 - val_loss: 0.4068 - val_acc: 0.8333\n",
      "Epoch 17/20\n",
      "50/50 [==============================] - 19s 383ms/step - loss: 0.0919 - acc: 0.9640 - val_loss: 0.1502 - val_acc: 0.9510\n",
      "Epoch 18/20\n",
      "50/50 [==============================] - 19s 386ms/step - loss: 0.0925 - acc: 0.9640 - val_loss: 0.1378 - val_acc: 0.9608\n",
      "Epoch 19/20\n",
      "50/50 [==============================] - 19s 383ms/step - loss: 0.0686 - acc: 0.9730 - val_loss: 0.3673 - val_acc: 0.8627\n",
      "Epoch 20/20\n",
      "50/50 [==============================] - 19s 386ms/step - loss: 0.0679 - acc: 0.9760 - val_loss: 0.6203 - val_acc: 0.7941\n"
     ]
    }
   ],
   "source": [
    "# fitting our training with the CNN model\n",
    "new_model = model.fit_generator(train_generator, \n",
    "                              steps_per_epoch=50, \n",
    "                              epochs=20, \n",
    "                              validation_data=validation_generator, \n",
    "                              )"
   ]
  },
  {
   "cell_type": "code",
   "execution_count": 10,
   "metadata": {},
   "outputs": [
    {
     "name": "stdout",
     "output_type": "stream",
     "text": [
      "Model: \"sequential\"\n",
      "_________________________________________________________________\n",
      "Layer (type)                 Output Shape              Param #   \n",
      "=================================================================\n",
      "conv2d (Conv2D)              (None, 148, 148, 32)      896       \n",
      "_________________________________________________________________\n",
      "max_pooling2d (MaxPooling2D) (None, 74, 74, 32)        0         \n",
      "_________________________________________________________________\n",
      "conv2d_1 (Conv2D)            (None, 72, 72, 64)        18496     \n",
      "_________________________________________________________________\n",
      "max_pooling2d_1 (MaxPooling2 (None, 36, 36, 64)        0         \n",
      "_________________________________________________________________\n",
      "conv2d_2 (Conv2D)            (None, 34, 34, 128)       73856     \n",
      "_________________________________________________________________\n",
      "max_pooling2d_2 (MaxPooling2 (None, 17, 17, 128)       0         \n",
      "_________________________________________________________________\n",
      "conv2d_3 (Conv2D)            (None, 15, 15, 128)       147584    \n",
      "_________________________________________________________________\n",
      "max_pooling2d_3 (MaxPooling2 (None, 7, 7, 128)         0         \n",
      "_________________________________________________________________\n",
      "flatten (Flatten)            (None, 6272)              0         \n",
      "_________________________________________________________________\n",
      "dense (Dense)                (None, 512)               3211776   \n",
      "_________________________________________________________________\n",
      "dense_1 (Dense)              (None, 1)                 513       \n",
      "=================================================================\n",
      "Total params: 3,453,121\n",
      "Trainable params: 3,453,121\n",
      "Non-trainable params: 0\n",
      "_________________________________________________________________\n"
     ]
    }
   ],
   "source": [
    "model.summary()"
   ]
  },
  {
   "cell_type": "code",
   "execution_count": 11,
   "metadata": {},
   "outputs": [
    {
     "name": "stdout",
     "output_type": "stream",
     "text": [
      "Found 624 images belonging to 2 classes.\n",
      "13/13 [==============================] - 7s 527ms/step - loss: 1.9976 - acc: 0.6635\n",
      "test acc: 0.6634615659713745\n"
     ]
    }
   ],
   "source": [
    "# running test set\n",
    "test_generator = test_datagen.flow_from_directory(test_folder, \n",
    "                                                  target_size=(150, 150), \n",
    "                                                  batch_size=50, \n",
    "                                                  class_mode='binary')\n",
    "test_loss, test_acc = model.evaluate(test_generator)\n",
    "print('test acc:', test_acc)"
   ]
  },
  {
   "cell_type": "code",
   "execution_count": 12,
   "metadata": {},
   "outputs": [
    {
     "data": {
      "image/png": "[encoded data removed]",
      "text/plain": [
       "<Figure size 576x576 with 2 Axes>"
      ]
     },
     "metadata": {
      "needs_background": "light"
     },
     "output_type": "display_data"
    }
   ],
   "source": [
    "# plot model\n",
    "acc = new_model.history['acc']\n",
    "val_acc = new_model.history['val_acc']\n",
    "\n",
    "loss = new_model.history['loss']\n",
    "val_loss = new_model.history['val_loss']\n",
    "\n",
    "fig, ax = plt.subplots(2, 1, figsize=(8, 8))\n",
    "\n",
    "ax[0].plot(acc, label='Training Accuracy')\n",
    "ax[0].plot(val_acc, label='Validation Accuracy')\n",
    "ax[0].legend(loc='lower right')\n",
    "ax[0].set_ylabel('Accuracy')\n",
    "ax[0].set_ylim([min(plt.ylim()), 1])\n",
    "ax[0].set_title('Training and Validation Accuracy')\n",
    "\n",
    "ax[1].plot(loss, label='Training Loss')\n",
    "ax[1].plot(val_loss, label='Validation Loss')\n",
    "ax[1].legend(loc='upper right')\n",
    "ax[1].set_ylabel('Cross Entropy')\n",
    "ax[1].set_ylim([0,max(plt.ylim())])\n",
    "ax[1].set_title('Training and Validation Loss')\n",
    "plt.show();"
   ]
  },
  {
   "cell_type": "markdown",
   "metadata": {},
   "source": [
    "## Adding EarlyStopping into our model"
   ]
  },
  {
   "cell_type": "code",
   "execution_count": 13,
   "metadata": {},
   "outputs": [],
   "source": [
    "# Instantiate EarlyStopping\n",
    "early_stop = EarlyStopping(monitor='val_loss', min_delta=1e-8, patience=0, verbose=1,\n",
    "                           mode='min')"
   ]
  },
  {
   "cell_type": "code",
   "execution_count": 22,
   "metadata": {},
   "outputs": [],
   "source": [
    "# using the same CNN model\n",
    "# adding early stop after compiling model\n",
    "model = models.Sequential()\n",
    "model.add(layers.Conv2D(32, (3, 3), activation='relu',\n",
    "                        input_shape=(150, 150, 3)))\n",
    "model.add(layers.MaxPooling2D((2, 2)))\n",
    "model.add(layers.Conv2D(64, (3, 3), activation='relu'))\n",
    "model.add(layers.MaxPooling2D((2, 2)))\n",
    "model.add(layers.Conv2D(128, (3, 3), activation='relu'))\n",
    "model.add(layers.MaxPooling2D((2, 2)))\n",
    "model.add(layers.Conv2D(128, (3, 3), activation='relu'))\n",
    "model.add(layers.MaxPooling2D((2, 2)))\n",
    "model.add(layers.Flatten())\n",
    "model.add(layers.Dense(512, activation='relu'))\n",
    "model.add(layers.Dense(1, activation='sigmoid'))\n",
    "model.compile(loss='binary_crossentropy',\n",
    "              optimizer=optimizers.RMSprop(lr=1e-4),\n",
    "              metrics=['acc'])\n",
    "early_stop = EarlyStopping(monitor='val_loss', min_delta=1e-8, patience=0, verbose=1,\n",
    "                           mode='min')"
   ]
  },
  {
   "cell_type": "code",
   "execution_count": 23,
   "metadata": {
    "scrolled": true
   },
   "outputs": [
    {
     "name": "stdout",
     "output_type": "stream",
     "text": [
      "Epoch 1/20\n",
      "30/30 [==============================] - 11s 379ms/step - loss: 0.5675 - acc: 0.7350 - val_loss: 0.9143 - val_acc: 0.5098\n",
      "Epoch 2/20\n",
      "30/30 [==============================] - 12s 394ms/step - loss: 0.5181 - acc: 0.7567 - val_loss: 0.7628 - val_acc: 0.5098\n",
      "Epoch 3/20\n",
      "30/30 [==============================] - 12s 391ms/step - loss: 0.4015 - acc: 0.8367 - val_loss: 0.5660 - val_acc: 0.6863\n",
      "Epoch 4/20\n",
      "30/30 [==============================] - 12s 413ms/step - loss: 0.3211 - acc: 0.8733 - val_loss: 0.4528 - val_acc: 0.7157\n",
      "Epoch 5/20\n",
      "30/30 [==============================] - 12s 408ms/step - loss: 0.2409 - acc: 0.9050 - val_loss: 0.2778 - val_acc: 0.9118\n",
      "Epoch 6/20\n",
      "30/30 [==============================] - 12s 396ms/step - loss: 0.2312 - acc: 0.9233 - val_loss: 0.4324 - val_acc: 0.7843\n",
      "Epoch 7/20\n",
      "30/30 [==============================] - 12s 405ms/step - loss: 0.2110 - acc: 0.9283 - val_loss: 0.3138 - val_acc: 0.8627\n",
      "Epoch 8/20\n",
      "30/30 [==============================] - 12s 409ms/step - loss: 0.2205 - acc: 0.9150 - val_loss: 0.2511 - val_acc: 0.8922\n",
      "Epoch 9/20\n",
      "30/30 [==============================] - 12s 403ms/step - loss: 0.1565 - acc: 0.9350 - val_loss: 0.2630 - val_acc: 0.8922\n",
      "Epoch 10/20\n",
      "30/30 [==============================] - 12s 409ms/step - loss: 0.1494 - acc: 0.9433 - val_loss: 0.2284 - val_acc: 0.8922\n",
      "Epoch 11/20\n",
      "30/30 [==============================] - 12s 398ms/step - loss: 0.1446 - acc: 0.9433 - val_loss: 0.5320 - val_acc: 0.7843\n",
      "Epoch 12/20\n",
      "30/30 [==============================] - 12s 394ms/step - loss: 0.1264 - acc: 0.9483 - val_loss: 0.4520 - val_acc: 0.8137\n",
      "Epoch 13/20\n",
      "30/30 [==============================] - 12s 392ms/step - loss: 0.1563 - acc: 0.9283 - val_loss: 0.4028 - val_acc: 0.8235\n",
      "Epoch 14/20\n",
      "30/30 [==============================] - 12s 399ms/step - loss: 0.1433 - acc: 0.9433 - val_loss: 0.1861 - val_acc: 0.9216\n",
      "Epoch 15/20\n",
      "30/30 [==============================] - 12s 391ms/step - loss: 0.1239 - acc: 0.9517 - val_loss: 0.1864 - val_acc: 0.9314\n",
      "Epoch 16/20\n",
      "30/30 [==============================] - 12s 399ms/step - loss: 0.1226 - acc: 0.9567 - val_loss: 0.1624 - val_acc: 0.9216\n",
      "Epoch 17/20\n",
      "30/30 [==============================] - 12s 400ms/step - loss: 0.1094 - acc: 0.9583 - val_loss: 0.2442 - val_acc: 0.8824\n",
      "Epoch 18/20\n",
      "30/30 [==============================] - 12s 397ms/step - loss: 0.1185 - acc: 0.9567 - val_loss: 0.4272 - val_acc: 0.8137\n",
      "Epoch 19/20\n",
      "30/30 [==============================] - 12s 411ms/step - loss: 0.1255 - acc: 0.9450 - val_loss: 0.2885 - val_acc: 0.8824\n",
      "Epoch 20/20\n",
      "30/30 [==============================] - 12s 407ms/step - loss: 0.1167 - acc: 0.9550 - val_loss: 0.1483 - val_acc: 0.9412\n"
     ]
    }
   ],
   "source": [
    "# fitting our training with the CNN model and early stop\n",
    "new_model_stop = new_model = model.fit_generator(train_generator, \n",
    "                              steps_per_epoch=30, \n",
    "                              epochs=20, \n",
    "                              validation_data=validation_generator, \n",
    "                              )"
   ]
  },
  {
   "cell_type": "code",
   "execution_count": 16,
   "metadata": {},
   "outputs": [
    {
     "name": "stdout",
     "output_type": "stream",
     "text": [
      "Model: \"sequential_1\"\n",
      "_________________________________________________________________\n",
      "Layer (type)                 Output Shape              Param #   \n",
      "=================================================================\n",
      "conv2d_4 (Conv2D)            (None, 148, 148, 32)      896       \n",
      "_________________________________________________________________\n",
      "max_pooling2d_4 (MaxPooling2 (None, 74, 74, 32)        0         \n",
      "_________________________________________________________________\n",
      "conv2d_5 (Conv2D)            (None, 72, 72, 64)        18496     \n",
      "_________________________________________________________________\n",
      "max_pooling2d_5 (MaxPooling2 (None, 36, 36, 64)        0         \n",
      "_________________________________________________________________\n",
      "conv2d_6 (Conv2D)            (None, 34, 34, 128)       73856     \n",
      "_________________________________________________________________\n",
      "max_pooling2d_6 (MaxPooling2 (None, 17, 17, 128)       0         \n",
      "_________________________________________________________________\n",
      "conv2d_7 (Conv2D)            (None, 15, 15, 128)       147584    \n",
      "_________________________________________________________________\n",
      "max_pooling2d_7 (MaxPooling2 (None, 7, 7, 128)         0         \n",
      "_________________________________________________________________\n",
      "flatten_1 (Flatten)          (None, 6272)              0         \n",
      "_________________________________________________________________\n",
      "dense_2 (Dense)              (None, 512)               3211776   \n",
      "_________________________________________________________________\n",
      "dense_3 (Dense)              (None, 1)                 513       \n",
      "=================================================================\n",
      "Total params: 3,453,121\n",
      "Trainable params: 3,453,121\n",
      "Non-trainable params: 0\n",
      "_________________________________________________________________\n"
     ]
    }
   ],
   "source": [
    "model.summary()"
   ]
  },
  {
   "cell_type": "code",
   "execution_count": 17,
   "metadata": {},
   "outputs": [
    {
     "data": {
      "image/png": "[encoded data removed]",
      "text/plain": [
       "<Figure size 720x720 with 2 Axes>"
      ]
     },
     "metadata": {
      "needs_background": "light"
     },
     "output_type": "display_data"
    }
   ],
   "source": [
    "#plot model\n",
    "acc = new_model_stop.history['acc']\n",
    "val_acc = new_model_stop.history['val_acc']\n",
    "\n",
    "loss = new_model_stop.history['loss']\n",
    "val_loss = new_model_stop.history['val_loss']\n",
    "\n",
    "fig, ax = plt.subplots(2, 1, figsize=(10, 10))\n",
    "\n",
    "ax[0].plot(acc, label='Training Accuracy')\n",
    "ax[0].plot(val_acc, label='Validation Accuracy')\n",
    "ax[0].legend(loc='lower right')\n",
    "ax[0].set_ylabel('Accuracy')\n",
    "ax[0].set_ylim([min(plt.ylim()), 1])\n",
    "ax[0].set_title('Training and Validation Accuracy')\n",
    "\n",
    "ax[1].plot(loss, label='Training Loss')\n",
    "ax[1].plot(val_loss, label='Validation Loss')\n",
    "ax[1].legend(loc='upper right')\n",
    "ax[1].set_ylabel('Cross Entropy')\n",
    "ax[1].set_ylim([0,max(plt.ylim())])\n",
    "ax[1].set_title('Training and Validation Loss')\n",
    "plt.savefig('final-val-acc')\n",
    "plt.show();"
   ]
  },
  {
   "cell_type": "code",
   "execution_count": 24,
   "metadata": {},
   "outputs": [
    {
     "name": "stdout",
     "output_type": "stream",
     "text": [
      "Found 624 images belonging to 2 classes.\n",
      "13/13 [==============================] - 7s 518ms/step - loss: 0.4360 - acc: 0.8365\n",
      "test acc: 0.8365384340286255\n"
     ]
    }
   ],
   "source": [
    "# Running test set \n",
    "test_generator = test_datagen.flow_from_directory(test_folder, \n",
    "                                                  target_size=(150, 150), \n",
    "                                                  batch_size=50, \n",
    "                                                  class_mode='binary')\n",
    "test_loss, test_acc = model.evaluate(test_generator)\n",
    "print('test acc:', test_acc)"
   ]
  },
  {
   "cell_type": "code",
   "execution_count": 25,
   "metadata": {},
   "outputs": [
    {
     "name": "stdout",
     "output_type": "stream",
     "text": [
      "Found 624 images belonging to 2 classes.\n",
      "1/1 [==============================] - 0s 1ms/step - loss: 0.4360 - acc: 0.8365\n",
      "test acc: 0.8365384340286255\n"
     ]
    }
   ],
   "source": [
    "# Using all images in test folder to run model in test set\n",
    "# increasing batch size from 50 to 624 \n",
    "test_generator_1 = test_datagen.flow_from_directory(test_folder, \n",
    "                                                  target_size=(150, 150), \n",
    "                                                  batch_size=624, \n",
    "                                                  class_mode='binary',\n",
    "                                                   shuffle=False)\n",
    "test_loss, test_acc = model.evaluate(test_generator_1)\n",
    "print('test acc:', test_acc)"
   ]
  },
  {
   "cell_type": "code",
   "execution_count": 27,
   "metadata": {},
   "outputs": [
    {
     "data": {
      "text/plain": [
       "array([0, 1, 1, 1, 0, 0, 0, 1, 1, 0, 0, 1, 0, 0, 1], dtype=int32)"
      ]
     },
     "execution_count": 27,
     "metadata": {},
     "output_type": "execute_result"
    }
   ],
   "source": [
    "# making predictions to see other scores in our model\n",
    "predictions = model.predict_classes(test_generator_1)\n",
    "# reshape the data\n",
    "predictions = predictions.reshape(1,-1)[0]\n",
    "predictions[:15]"
   ]
  },
  {
   "cell_type": "code",
   "execution_count": 28,
   "metadata": {},
   "outputs": [],
   "source": [
    "# create the data sets-test set\n",
    "test_images, test_labels = next(test_generator_1)"
   ]
  },
  {
   "cell_type": "code",
   "execution_count": 29,
   "metadata": {},
   "outputs": [
    {
     "name": "stdout",
     "output_type": "stream",
     "text": [
      "                     precision    recall  f1-score   support\n",
      "\n",
      "Pneumonia (Class 0)       0.91      0.62      0.74       234\n",
      "   Normal (Class 1)       0.81      0.96      0.88       390\n",
      "\n",
      "           accuracy                           0.84       624\n",
      "          macro avg       0.86      0.79      0.81       624\n",
      "       weighted avg       0.85      0.84      0.83       624\n",
      "\n"
     ]
    }
   ],
   "source": [
    "# using classification to get predictions \n",
    "# giving Pneumonia and Normal class 0 and 1\n",
    "print(classification_report(test_labels, predictions, \n",
    "                            target_names = \n",
    "                            ['Pneumonia (Class 0)','Normal (Class 1)']\n",
    "                           ))"
   ]
  },
  {
   "cell_type": "code",
   "execution_count": 30,
   "metadata": {},
   "outputs": [
    {
     "data": {
      "text/plain": [
       "array([[146,  88],\n",
       "       [ 14, 376]])"
      ]
     },
     "execution_count": 30,
     "metadata": {},
     "output_type": "execute_result"
    }
   ],
   "source": [
    "# instantiate confusion matrix\n",
    "conf = confusion_matrix(test_labels,predictions)\n",
    "conf"
   ]
  },
  {
   "cell_type": "code",
   "execution_count": 31,
   "metadata": {},
   "outputs": [
    {
     "data": {
      "image/png": "[encoded data removed]",
      "text/plain": [
       "<Figure size 432x288 with 2 Axes>"
      ]
     },
     "metadata": {
      "needs_background": "light"
     },
     "output_type": "display_data"
    }
   ],
   "source": [
    "# plot confusion matrix\n",
    "ax = plt.axes()\n",
    "sns.heatmap(conf, linewidths=1, annot=True, fmt='g', ax=ax);\n",
    "ax.set_title('Normal vs Pneumonia Confusion Matrix')\n",
    "plt.savefig('Normal vs Pneumonia ')\n",
    "plt.show();"
   ]
  },
  {
   "cell_type": "code",
   "execution_count": null,
   "metadata": {},
   "outputs": [],
   "source": []
  }
 ],
 "metadata": {
  "kernelspec": {
   "display_name": "Python 3",
   "language": "python",
   "name": "python3"
  },
  "language_info": {
   "codemirror_mode": {
    "name": "ipython",
    "version": 3
   },
   "file_extension": ".py",
   "mimetype": "text/x-python",
   "name": "python",
   "nbconvert_exporter": "python",
   "pygments_lexer": "ipython3",
   "version": "3.8.3"
  }
 },
 "nbformat": 4,
 "nbformat_minor": 4
}
